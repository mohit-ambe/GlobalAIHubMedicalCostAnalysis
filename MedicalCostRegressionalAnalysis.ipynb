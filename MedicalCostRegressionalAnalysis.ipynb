{
  "nbformat": 4,
  "nbformat_minor": 0,
  "metadata": {
    "colab": {
      "provenance": [],
      "collapsed_sections": []
    },
    "kernelspec": {
      "name": "python3",
      "display_name": "Python 3"
    },
    "language_info": {
      "name": "python"
    }
  },
  "cells": [
    {
      "cell_type": "markdown",
      "source": [
        "**Importing Required Libraries**\n",
        "\n",
        "Import the required libraries for the project to the Colab environment.\n",
        "\n",
        "Import Pandas, NumPy, Seaborn, Matplotlib and Sklearn libraries for data analysis"
      ],
      "metadata": {
        "id": "kZkIRIOZ6smB"
      }
    },
    {
      "cell_type": "code",
      "source": [
        "import matplotlib.pyplot as plt\n",
        "import numpy as np\n",
        "import pandas as pd\n",
        "\n",
        "from sklearn.linear_model import LinearRegression, Ridge\n",
        "from sklearn.metrics import mean_squared_error\n",
        "from sklearn.model_selection import train_test_split, GridSearchCV, RepeatedKFold\n",
        "from sklearn.pipeline import Pipeline\n",
        "from sklearn.preprocessing import LabelEncoder, MinMaxScaler"
      ],
      "metadata": {
        "id": "4V1LV0iB635l"
      },
      "execution_count": 186,
      "outputs": []
    },
    {
      "cell_type": "markdown",
      "source": [
        "**Import the Data**\n",
        "\n",
        "Create a Dataframe that contains the \"insurance.csv\" information."
      ],
      "metadata": {
        "id": "Vms8rj5k87lF"
      }
    },
    {
      "cell_type": "code",
      "source": [
        "data = pd.read_csv(\"insurance.csv\")\n",
        "data"
      ],
      "metadata": {
        "colab": {
          "base_uri": "https://localhost:8080/",
          "height": 424
        },
        "id": "TiHLIqHq9GMX",
        "outputId": "5aed2de3-d656-41b3-d322-b0c1c614238e"
      },
      "execution_count": 187,
      "outputs": [
        {
          "output_type": "execute_result",
          "data": {
            "text/plain": [
              "      age     sex     bmi  children smoker     region      charges\n",
              "0      19  female  27.900         0    yes  southwest  16884.92400\n",
              "1      18    male  33.770         1     no  southeast   1725.55230\n",
              "2      28    male  33.000         3     no  southeast   4449.46200\n",
              "3      33    male  22.705         0     no  northwest  21984.47061\n",
              "4      32    male  28.880         0     no  northwest   3866.85520\n",
              "...   ...     ...     ...       ...    ...        ...          ...\n",
              "1333   50    male  30.970         3     no  northwest  10600.54830\n",
              "1334   18  female  31.920         0     no  northeast   2205.98080\n",
              "1335   18  female  36.850         0     no  southeast   1629.83350\n",
              "1336   21  female  25.800         0     no  southwest   2007.94500\n",
              "1337   61  female  29.070         0    yes  northwest  29141.36030\n",
              "\n",
              "[1338 rows x 7 columns]"
            ],
            "text/html": [
              "\n",
              "  <div id=\"df-306bcfb3-ab28-4f90-b6aa-26683bf91f71\">\n",
              "    <div class=\"colab-df-container\">\n",
              "      <div>\n",
              "<style scoped>\n",
              "    .dataframe tbody tr th:only-of-type {\n",
              "        vertical-align: middle;\n",
              "    }\n",
              "\n",
              "    .dataframe tbody tr th {\n",
              "        vertical-align: top;\n",
              "    }\n",
              "\n",
              "    .dataframe thead th {\n",
              "        text-align: right;\n",
              "    }\n",
              "</style>\n",
              "<table border=\"1\" class=\"dataframe\">\n",
              "  <thead>\n",
              "    <tr style=\"text-align: right;\">\n",
              "      <th></th>\n",
              "      <th>age</th>\n",
              "      <th>sex</th>\n",
              "      <th>bmi</th>\n",
              "      <th>children</th>\n",
              "      <th>smoker</th>\n",
              "      <th>region</th>\n",
              "      <th>charges</th>\n",
              "    </tr>\n",
              "  </thead>\n",
              "  <tbody>\n",
              "    <tr>\n",
              "      <th>0</th>\n",
              "      <td>19</td>\n",
              "      <td>female</td>\n",
              "      <td>27.900</td>\n",
              "      <td>0</td>\n",
              "      <td>yes</td>\n",
              "      <td>southwest</td>\n",
              "      <td>16884.92400</td>\n",
              "    </tr>\n",
              "    <tr>\n",
              "      <th>1</th>\n",
              "      <td>18</td>\n",
              "      <td>male</td>\n",
              "      <td>33.770</td>\n",
              "      <td>1</td>\n",
              "      <td>no</td>\n",
              "      <td>southeast</td>\n",
              "      <td>1725.55230</td>\n",
              "    </tr>\n",
              "    <tr>\n",
              "      <th>2</th>\n",
              "      <td>28</td>\n",
              "      <td>male</td>\n",
              "      <td>33.000</td>\n",
              "      <td>3</td>\n",
              "      <td>no</td>\n",
              "      <td>southeast</td>\n",
              "      <td>4449.46200</td>\n",
              "    </tr>\n",
              "    <tr>\n",
              "      <th>3</th>\n",
              "      <td>33</td>\n",
              "      <td>male</td>\n",
              "      <td>22.705</td>\n",
              "      <td>0</td>\n",
              "      <td>no</td>\n",
              "      <td>northwest</td>\n",
              "      <td>21984.47061</td>\n",
              "    </tr>\n",
              "    <tr>\n",
              "      <th>4</th>\n",
              "      <td>32</td>\n",
              "      <td>male</td>\n",
              "      <td>28.880</td>\n",
              "      <td>0</td>\n",
              "      <td>no</td>\n",
              "      <td>northwest</td>\n",
              "      <td>3866.85520</td>\n",
              "    </tr>\n",
              "    <tr>\n",
              "      <th>...</th>\n",
              "      <td>...</td>\n",
              "      <td>...</td>\n",
              "      <td>...</td>\n",
              "      <td>...</td>\n",
              "      <td>...</td>\n",
              "      <td>...</td>\n",
              "      <td>...</td>\n",
              "    </tr>\n",
              "    <tr>\n",
              "      <th>1333</th>\n",
              "      <td>50</td>\n",
              "      <td>male</td>\n",
              "      <td>30.970</td>\n",
              "      <td>3</td>\n",
              "      <td>no</td>\n",
              "      <td>northwest</td>\n",
              "      <td>10600.54830</td>\n",
              "    </tr>\n",
              "    <tr>\n",
              "      <th>1334</th>\n",
              "      <td>18</td>\n",
              "      <td>female</td>\n",
              "      <td>31.920</td>\n",
              "      <td>0</td>\n",
              "      <td>no</td>\n",
              "      <td>northeast</td>\n",
              "      <td>2205.98080</td>\n",
              "    </tr>\n",
              "    <tr>\n",
              "      <th>1335</th>\n",
              "      <td>18</td>\n",
              "      <td>female</td>\n",
              "      <td>36.850</td>\n",
              "      <td>0</td>\n",
              "      <td>no</td>\n",
              "      <td>southeast</td>\n",
              "      <td>1629.83350</td>\n",
              "    </tr>\n",
              "    <tr>\n",
              "      <th>1336</th>\n",
              "      <td>21</td>\n",
              "      <td>female</td>\n",
              "      <td>25.800</td>\n",
              "      <td>0</td>\n",
              "      <td>no</td>\n",
              "      <td>southwest</td>\n",
              "      <td>2007.94500</td>\n",
              "    </tr>\n",
              "    <tr>\n",
              "      <th>1337</th>\n",
              "      <td>61</td>\n",
              "      <td>female</td>\n",
              "      <td>29.070</td>\n",
              "      <td>0</td>\n",
              "      <td>yes</td>\n",
              "      <td>northwest</td>\n",
              "      <td>29141.36030</td>\n",
              "    </tr>\n",
              "  </tbody>\n",
              "</table>\n",
              "<p>1338 rows × 7 columns</p>\n",
              "</div>\n",
              "      <button class=\"colab-df-convert\" onclick=\"convertToInteractive('df-306bcfb3-ab28-4f90-b6aa-26683bf91f71')\"\n",
              "              title=\"Convert this dataframe to an interactive table.\"\n",
              "              style=\"display:none;\">\n",
              "        \n",
              "  <svg xmlns=\"http://www.w3.org/2000/svg\" height=\"24px\"viewBox=\"0 0 24 24\"\n",
              "       width=\"24px\">\n",
              "    <path d=\"M0 0h24v24H0V0z\" fill=\"none\"/>\n",
              "    <path d=\"M18.56 5.44l.94 2.06.94-2.06 2.06-.94-2.06-.94-.94-2.06-.94 2.06-2.06.94zm-11 1L8.5 8.5l.94-2.06 2.06-.94-2.06-.94L8.5 2.5l-.94 2.06-2.06.94zm10 10l.94 2.06.94-2.06 2.06-.94-2.06-.94-.94-2.06-.94 2.06-2.06.94z\"/><path d=\"M17.41 7.96l-1.37-1.37c-.4-.4-.92-.59-1.43-.59-.52 0-1.04.2-1.43.59L10.3 9.45l-7.72 7.72c-.78.78-.78 2.05 0 2.83L4 21.41c.39.39.9.59 1.41.59.51 0 1.02-.2 1.41-.59l7.78-7.78 2.81-2.81c.8-.78.8-2.07 0-2.86zM5.41 20L4 18.59l7.72-7.72 1.47 1.35L5.41 20z\"/>\n",
              "  </svg>\n",
              "      </button>\n",
              "      \n",
              "  <style>\n",
              "    .colab-df-container {\n",
              "      display:flex;\n",
              "      flex-wrap:wrap;\n",
              "      gap: 12px;\n",
              "    }\n",
              "\n",
              "    .colab-df-convert {\n",
              "      background-color: #E8F0FE;\n",
              "      border: none;\n",
              "      border-radius: 50%;\n",
              "      cursor: pointer;\n",
              "      display: none;\n",
              "      fill: #1967D2;\n",
              "      height: 32px;\n",
              "      padding: 0 0 0 0;\n",
              "      width: 32px;\n",
              "    }\n",
              "\n",
              "    .colab-df-convert:hover {\n",
              "      background-color: #E2EBFA;\n",
              "      box-shadow: 0px 1px 2px rgba(60, 64, 67, 0.3), 0px 1px 3px 1px rgba(60, 64, 67, 0.15);\n",
              "      fill: #174EA6;\n",
              "    }\n",
              "\n",
              "    [theme=dark] .colab-df-convert {\n",
              "      background-color: #3B4455;\n",
              "      fill: #D2E3FC;\n",
              "    }\n",
              "\n",
              "    [theme=dark] .colab-df-convert:hover {\n",
              "      background-color: #434B5C;\n",
              "      box-shadow: 0px 1px 3px 1px rgba(0, 0, 0, 0.15);\n",
              "      filter: drop-shadow(0px 1px 2px rgba(0, 0, 0, 0.3));\n",
              "      fill: #FFFFFF;\n",
              "    }\n",
              "  </style>\n",
              "\n",
              "      <script>\n",
              "        const buttonEl =\n",
              "          document.querySelector('#df-306bcfb3-ab28-4f90-b6aa-26683bf91f71 button.colab-df-convert');\n",
              "        buttonEl.style.display =\n",
              "          google.colab.kernel.accessAllowed ? 'block' : 'none';\n",
              "\n",
              "        async function convertToInteractive(key) {\n",
              "          const element = document.querySelector('#df-306bcfb3-ab28-4f90-b6aa-26683bf91f71');\n",
              "          const dataTable =\n",
              "            await google.colab.kernel.invokeFunction('convertToInteractive',\n",
              "                                                     [key], {});\n",
              "          if (!dataTable) return;\n",
              "\n",
              "          const docLinkHtml = 'Like what you see? Visit the ' +\n",
              "            '<a target=\"_blank\" href=https://colab.research.google.com/notebooks/data_table.ipynb>data table notebook</a>'\n",
              "            + ' to learn more about interactive tables.';\n",
              "          element.innerHTML = '';\n",
              "          dataTable['output_type'] = 'display_data';\n",
              "          await google.colab.output.renderOutput(dataTable, element);\n",
              "          const docLink = document.createElement('div');\n",
              "          docLink.innerHTML = docLinkHtml;\n",
              "          element.appendChild(docLink);\n",
              "        }\n",
              "      </script>\n",
              "    </div>\n",
              "  </div>\n",
              "  "
            ]
          },
          "metadata": {},
          "execution_count": 187
        }
      ]
    },
    {
      "cell_type": "markdown",
      "source": [
        "**Perform An Exploratory Data Analysis**\n",
        "\n",
        "Analyze the data and draw meaningful conclusions from the data.\n",
        "\n",
        "Examine the distribution of Bmi (Body Mass Index)"
      ],
      "metadata": {
        "id": "PuUWjAIc7FBP"
      }
    },
    {
      "cell_type": "code",
      "source": [
        "plt.bar(data['bmi'], data['charges'])\n",
        "plt.show\n",
        "# There seems to be a correlation between bmi and the charges a person pays and their BMI."
      ],
      "metadata": {
        "colab": {
          "base_uri": "https://localhost:8080/",
          "height": 282
        },
        "id": "xg6gCVfB7FNa",
        "outputId": "821fa316-2e08-4c9f-bbe4-c6c756ab2069"
      },
      "execution_count": 188,
      "outputs": [
        {
          "output_type": "execute_result",
          "data": {
            "text/plain": [
              "<function matplotlib.pyplot.show(*args, **kw)>"
            ]
          },
          "metadata": {},
          "execution_count": 188
        },
        {
          "output_type": "display_data",
          "data": {
            "text/plain": [
              "<Figure size 432x288 with 1 Axes>"
            ],
            "image/png": "[encoded data removed]"
          },
          "metadata": {
            "needs_background": "light"
          }
        }
      ]
    },
    {
      "cell_type": "markdown",
      "source": [
        "Examine the relationship between “smoker” and “charges”"
      ],
      "metadata": {
        "id": "OhS2BxXl7FXu"
      }
    },
    {
      "cell_type": "code",
      "source": [
        "plt.bar(data['smoker'], data['charges'])\n",
        "plt.show()\n",
        "# Smokers have more insurance charges than non-smokers"
      ],
      "metadata": {
        "colab": {
          "base_uri": "https://localhost:8080/",
          "height": 265
        },
        "id": "edgAR2pD7FpU",
        "outputId": "19810e7c-1496-43a9-988d-e378ac02966a"
      },
      "execution_count": 189,
      "outputs": [
        {
          "output_type": "display_data",
          "data": {
            "text/plain": [
              "<Figure size 432x288 with 1 Axes>"
            ],
            "image/png": "[encoded data removed]"
          },
          "metadata": {
            "needs_background": "light"
          }
        }
      ]
    },
    {
      "cell_type": "markdown",
      "source": [
        "Examine the relationship between “smoker” and “region”."
      ],
      "metadata": {
        "id": "9x2x-e_t7F0O"
      }
    },
    {
      "cell_type": "code",
      "source": [
        "smoker_regions = data[data['smoker'] == 'yes']['region'].value_counts()\n",
        "non_smoker_regions = data[data['smoker'] == 'no']['region'].value_counts()\n",
        "\n",
        "fig = plt.figure(figsize = (8, 16))\n",
        "\n",
        "smoker_pie = fig.add_subplot(4, 2, 1)\n",
        "smoker_pie.pie(smoker_regions, labels = smoker_regions.index)\n",
        "smoker_pie.set_title(\"Regions of Smokers\")\n",
        "\n",
        "non_smoker_pie = fig.add_subplot(4, 2, 2)\n",
        "non_smoker_pie.pie(non_smoker_regions, labels = non_smoker_regions.index)\n",
        "non_smoker_pie.set_title(\"Regions of Non-Smokers\")\n",
        "\n",
        "fig.show()\n",
        "# Smokers tend to reside in the southeast region"
      ],
      "metadata": {
        "colab": {
          "base_uri": "https://localhost:8080/",
          "height": 236
        },
        "id": "OC_r1h857GB0",
        "outputId": "9c7718db-3897-44fe-b3bd-ab5495141c94"
      },
      "execution_count": 190,
      "outputs": [
        {
          "output_type": "display_data",
          "data": {
            "text/plain": [
              "<Figure size 576x1152 with 2 Axes>"
            ],
            "image/png": "[encoded data removed]"
          },
          "metadata": {}
        }
      ]
    },
    {
      "cell_type": "markdown",
      "source": [
        "Examine the relationship between “bmi” and “sex”."
      ],
      "metadata": {
        "id": "CJRP7LCd7GL4"
      }
    },
    {
      "cell_type": "code",
      "source": [
        "plt.bar(data['sex'], data['bmi'])\n",
        "plt.show()\n",
        "# Overall, males have higher BMIs then females"
      ],
      "metadata": {
        "id": "PBxn3Tg97GcJ",
        "colab": {
          "base_uri": "https://localhost:8080/",
          "height": 265
        },
        "outputId": "bfdfa830-abc0-4127-8ad9-7e76b0a5eb74"
      },
      "execution_count": 191,
      "outputs": [
        {
          "output_type": "display_data",
          "data": {
            "text/plain": [
              "<Figure size 432x288 with 1 Axes>"
            ],
            "image/png": "[encoded data removed]"
          },
          "metadata": {
            "needs_background": "light"
          }
        }
      ]
    },
    {
      "cell_type": "markdown",
      "source": [
        "Find the \"region\" with the most \"children\"."
      ],
      "metadata": {
        "id": "wr57OJXg7GlQ"
      }
    },
    {
      "cell_type": "code",
      "source": [
        "NE_children = data[data['region'] == 'northeast']['children'].sum()\n",
        "NW_children = data[data['region'] == 'northwest']['children'].sum()\n",
        "SE_children = data[data['region'] == 'southeast']['children'].sum()\n",
        "SW_children = data[data['region'] == 'southwest']['children'].sum()\n",
        "plt.bar(['northeast', 'northwest', 'southeast', 'southwest'], [NE_children, NW_children, SE_children, SW_children])\n",
        "plt.show()\n",
        "# The southeast region has the most children"
      ],
      "metadata": {
        "id": "JLcjXMD27vx0",
        "colab": {
          "base_uri": "https://localhost:8080/",
          "height": 269
        },
        "outputId": "dfe74c57-ed24-4604-f06c-5f2a5efcc039"
      },
      "execution_count": 192,
      "outputs": [
        {
          "output_type": "display_data",
          "data": {
            "text/plain": [
              "<Figure size 432x288 with 1 Axes>"
            ],
            "image/png": "[encoded data removed]"
          },
          "metadata": {
            "needs_background": "light"
          }
        }
      ]
    },
    {
      "cell_type": "markdown",
      "source": [
        "Examine the relationship between “age” and “bmi”."
      ],
      "metadata": {
        "id": "Qu1w4PGV7vqX"
      }
    },
    {
      "cell_type": "code",
      "source": [
        "plt.bar(data['age'], data['bmi'])\n",
        "plt.show()\n",
        "# BMI does not seem to have correlation to age "
      ],
      "metadata": {
        "id": "a-EK2QwL7wdQ",
        "colab": {
          "base_uri": "https://localhost:8080/",
          "height": 265
        },
        "outputId": "4ab50cff-be52-4441-a496-4febd9fa509c"
      },
      "execution_count": 193,
      "outputs": [
        {
          "output_type": "display_data",
          "data": {
            "text/plain": [
              "<Figure size 432x288 with 1 Axes>"
            ],
            "image/png": "[encoded data removed]"
          },
          "metadata": {
            "needs_background": "light"
          }
        }
      ]
    },
    {
      "cell_type": "markdown",
      "source": [
        "Examine the relationship between “bmi” and “children”."
      ],
      "metadata": {
        "id": "Ev3tcm0o7wrd"
      }
    },
    {
      "cell_type": "code",
      "source": [
        "plt.bar(data['bmi'], data['children'])\n",
        "plt.show()\n",
        "# There seems to be little correlation between number of children and BMI"
      ],
      "metadata": {
        "id": "bI4JU-HA7w5s",
        "colab": {
          "base_uri": "https://localhost:8080/",
          "height": 265
        },
        "outputId": "66538f3d-0c54-4e42-88c0-7a63be2fe5e3"
      },
      "execution_count": 194,
      "outputs": [
        {
          "output_type": "display_data",
          "data": {
            "text/plain": [
              "<Figure size 432x288 with 1 Axes>"
            ],
            "image/png": "[encoded data removed]"
          },
          "metadata": {
            "needs_background": "light"
          }
        }
      ]
    },
    {
      "cell_type": "markdown",
      "source": [
        "Is there an outlier in the \"bmi\" variable? Please review."
      ],
      "metadata": {
        "id": "Jeqvi6ee7xEK"
      }
    },
    {
      "cell_type": "code",
      "source": [
        "bmi_stats = data['bmi'].describe()\n",
        "bmi_iqr = bmi_stats['75%'] - bmi_stats['25%']\n",
        "bmi_threshold = [bmi_stats['25%'] - bmi_iqr * 1.5, bmi_stats['75%'] + bmi_iqr * 1.5]\n",
        "print(bmi_stats)\n",
        "print(bmi_threshold)\n",
        "# Because there are values of BMI greater than the BMI's third_quartile + IQR * 1.5, it is statistically proven that there are outliers\n",
        "# Data entries with BMI either <13.7 or >47.290000000000006 should be removed from the data"
      ],
      "metadata": {
        "id": "rVlf5gDJ7xeZ",
        "colab": {
          "base_uri": "https://localhost:8080/"
        },
        "outputId": "46111498-e646-4dab-9d31-63f0b9239c80"
      },
      "execution_count": 195,
      "outputs": [
        {
          "output_type": "stream",
          "name": "stdout",
          "text": [
            "count    1338.000000\n",
            "mean       30.663397\n",
            "std         6.098187\n",
            "min        15.960000\n",
            "25%        26.296250\n",
            "50%        30.400000\n",
            "75%        34.693750\n",
            "max        53.130000\n",
            "Name: bmi, dtype: float64\n",
            "[13.7, 47.290000000000006]\n"
          ]
        }
      ]
    },
    {
      "cell_type": "markdown",
      "source": [
        "Examine the relationship between “bmi” and “charges”."
      ],
      "metadata": {
        "id": "7gDnnbF27xny"
      }
    },
    {
      "cell_type": "code",
      "source": [
        "plt.bar(data['bmi'], data['charges'])\n",
        "plt.show()\n",
        "# There seems to be a correlation between the charges paid and BMI"
      ],
      "metadata": {
        "id": "0EzF6FO57x2A",
        "colab": {
          "base_uri": "https://localhost:8080/",
          "height": 265
        },
        "outputId": "013b9a60-3c94-47ea-f8a6-27e1d1cf6d21"
      },
      "execution_count": 196,
      "outputs": [
        {
          "output_type": "display_data",
          "data": {
            "text/plain": [
              "<Figure size 432x288 with 1 Axes>"
            ],
            "image/png": "[encoded data removed]"
          },
          "metadata": {
            "needs_background": "light"
          }
        }
      ]
    },
    {
      "cell_type": "markdown",
      "source": [
        "Examine the relationship between “region”, “smoker” and “bmi” using bar plot."
      ],
      "metadata": {
        "id": "tGOiMAgJ7x_q"
      }
    },
    {
      "cell_type": "code",
      "source": [
        "smoker_regions = data[data['smoker'] == 'yes']['region']\n",
        "non_smoker_regions = data[data['smoker'] == 'no']['region']\n",
        "\n",
        "fig = plt.figure(figsize = (8, 16))\n",
        "\n",
        "smoker_bar = fig.add_subplot(4, 2, 1)\n",
        "smoker_bar.bar(smoker_regions, data[data['smoker'] == 'yes']['bmi'])\n",
        "smoker_bar.set_title(\"Smokers\")\n",
        "\n",
        "non_smoker_bar = fig.add_subplot(4, 2, 2)\n",
        "non_smoker_bar.bar(non_smoker_regions, data[data['smoker'] == 'no']['bmi'])\n",
        "non_smoker_bar.set_title(\"Non-Smokers\")\n",
        "\n",
        "fig.show()\n",
        "# Smokers have higher BMIs in the southeast region\n",
        "# Non-Smokers also have higher BMIs in the southeast region"
      ],
      "metadata": {
        "id": "ld-PuaZ67yM7",
        "colab": {
          "base_uri": "https://localhost:8080/",
          "height": 253
        },
        "outputId": "80b3be4a-0160-4e93-87eb-01575df6bce6"
      },
      "execution_count": 197,
      "outputs": [
        {
          "output_type": "display_data",
          "data": {
            "text/plain": [
              "<Figure size 576x1152 with 2 Axes>"
            ],
            "image/png": "[encoded data removed]"
          },
          "metadata": {
            "needs_background": "light"
          }
        }
      ]
    },
    {
      "cell_type": "markdown",
      "source": [
        " **Data Preprocessing**\n",
        "\n",
        " In this section, prepare the data you have, for training the model.\n",
        "\n",
        " Use Label Encoding and One-Hot Encoding techniques to deal with categorical\n",
        "variables."
      ],
      "metadata": {
        "id": "rz20eCxC7yYi"
      }
    },
    {
      "cell_type": "code",
      "source": [
        "labelEncoder = LabelEncoder()\n",
        "data['sex'] = labelEncoder.fit_transform(data['sex'])\n",
        "data['smoker'] = labelEncoder.fit_transform(data['smoker'])\n",
        "data['region'] = labelEncoder.fit_transform(data['region'])\n",
        "data.head()"
      ],
      "metadata": {
        "id": "hGPB0xtW7yj3",
        "colab": {
          "base_uri": "https://localhost:8080/",
          "height": 206
        },
        "outputId": "df2a564c-2a7b-4075-a63b-99919a3c25d7"
      },
      "execution_count": 198,
      "outputs": [
        {
          "output_type": "execute_result",
          "data": {
            "text/plain": [
              "   age  sex     bmi  children  smoker  region      charges\n",
              "0   19    0  27.900         0       1       3  16884.92400\n",
              "1   18    1  33.770         1       0       2   1725.55230\n",
              "2   28    1  33.000         3       0       2   4449.46200\n",
              "3   33    1  22.705         0       0       1  21984.47061\n",
              "4   32    1  28.880         0       0       1   3866.85520"
            ],
            "text/html": [
              "\n",
              "  <div id=\"df-6bae5b7e-7691-4344-a3f2-6774256fc815\">\n",
              "    <div class=\"colab-df-container\">\n",
              "      <div>\n",
              "<style scoped>\n",
              "    .dataframe tbody tr th:only-of-type {\n",
              "        vertical-align: middle;\n",
              "    }\n",
              "\n",
              "    .dataframe tbody tr th {\n",
              "        vertical-align: top;\n",
              "    }\n",
              "\n",
              "    .dataframe thead th {\n",
              "        text-align: right;\n",
              "    }\n",
              "</style>\n",
              "<table border=\"1\" class=\"dataframe\">\n",
              "  <thead>\n",
              "    <tr style=\"text-align: right;\">\n",
              "      <th></th>\n",
              "      <th>age</th>\n",
              "      <th>sex</th>\n",
              "      <th>bmi</th>\n",
              "      <th>children</th>\n",
              "      <th>smoker</th>\n",
              "      <th>region</th>\n",
              "      <th>charges</th>\n",
              "    </tr>\n",
              "  </thead>\n",
              "  <tbody>\n",
              "    <tr>\n",
              "      <th>0</th>\n",
              "      <td>19</td>\n",
              "      <td>0</td>\n",
              "      <td>27.900</td>\n",
              "      <td>0</td>\n",
              "      <td>1</td>\n",
              "      <td>3</td>\n",
              "      <td>16884.92400</td>\n",
              "    </tr>\n",
              "    <tr>\n",
              "      <th>1</th>\n",
              "      <td>18</td>\n",
              "      <td>1</td>\n",
              "      <td>33.770</td>\n",
              "      <td>1</td>\n",
              "      <td>0</td>\n",
              "      <td>2</td>\n",
              "      <td>1725.55230</td>\n",
              "    </tr>\n",
              "    <tr>\n",
              "      <th>2</th>\n",
              "      <td>28</td>\n",
              "      <td>1</td>\n",
              "      <td>33.000</td>\n",
              "      <td>3</td>\n",
              "      <td>0</td>\n",
              "      <td>2</td>\n",
              "      <td>4449.46200</td>\n",
              "    </tr>\n",
              "    <tr>\n",
              "      <th>3</th>\n",
              "      <td>33</td>\n",
              "      <td>1</td>\n",
              "      <td>22.705</td>\n",
              "      <td>0</td>\n",
              "      <td>0</td>\n",
              "      <td>1</td>\n",
              "      <td>21984.47061</td>\n",
              "    </tr>\n",
              "    <tr>\n",
              "      <th>4</th>\n",
              "      <td>32</td>\n",
              "      <td>1</td>\n",
              "      <td>28.880</td>\n",
              "      <td>0</td>\n",
              "      <td>0</td>\n",
              "      <td>1</td>\n",
              "      <td>3866.85520</td>\n",
              "    </tr>\n",
              "  </tbody>\n",
              "</table>\n",
              "</div>\n",
              "      <button class=\"colab-df-convert\" onclick=\"convertToInteractive('df-6bae5b7e-7691-4344-a3f2-6774256fc815')\"\n",
              "              title=\"Convert this dataframe to an interactive table.\"\n",
              "              style=\"display:none;\">\n",
              "        \n",
              "  <svg xmlns=\"http://www.w3.org/2000/svg\" height=\"24px\"viewBox=\"0 0 24 24\"\n",
              "       width=\"24px\">\n",
              "    <path d=\"M0 0h24v24H0V0z\" fill=\"none\"/>\n",
              "    <path d=\"M18.56 5.44l.94 2.06.94-2.06 2.06-.94-2.06-.94-.94-2.06-.94 2.06-2.06.94zm-11 1L8.5 8.5l.94-2.06 2.06-.94-2.06-.94L8.5 2.5l-.94 2.06-2.06.94zm10 10l.94 2.06.94-2.06 2.06-.94-2.06-.94-.94-2.06-.94 2.06-2.06.94z\"/><path d=\"M17.41 7.96l-1.37-1.37c-.4-.4-.92-.59-1.43-.59-.52 0-1.04.2-1.43.59L10.3 9.45l-7.72 7.72c-.78.78-.78 2.05 0 2.83L4 21.41c.39.39.9.59 1.41.59.51 0 1.02-.2 1.41-.59l7.78-7.78 2.81-2.81c.8-.78.8-2.07 0-2.86zM5.41 20L4 18.59l7.72-7.72 1.47 1.35L5.41 20z\"/>\n",
              "  </svg>\n",
              "      </button>\n",
              "      \n",
              "  <style>\n",
              "    .colab-df-container {\n",
              "      display:flex;\n",
              "      flex-wrap:wrap;\n",
              "      gap: 12px;\n",
              "    }\n",
              "\n",
              "    .colab-df-convert {\n",
              "      background-color: #E8F0FE;\n",
              "      border: none;\n",
              "      border-radius: 50%;\n",
              "      cursor: pointer;\n",
              "      display: none;\n",
              "      fill: #1967D2;\n",
              "      height: 32px;\n",
              "      padding: 0 0 0 0;\n",
              "      width: 32px;\n",
              "    }\n",
              "\n",
              "    .colab-df-convert:hover {\n",
              "      background-color: #E2EBFA;\n",
              "      box-shadow: 0px 1px 2px rgba(60, 64, 67, 0.3), 0px 1px 3px 1px rgba(60, 64, 67, 0.15);\n",
              "      fill: #174EA6;\n",
              "    }\n",
              "\n",
              "    [theme=dark] .colab-df-convert {\n",
              "      background-color: #3B4455;\n",
              "      fill: #D2E3FC;\n",
              "    }\n",
              "\n",
              "    [theme=dark] .colab-df-convert:hover {\n",
              "      background-color: #434B5C;\n",
              "      box-shadow: 0px 1px 3px 1px rgba(0, 0, 0, 0.15);\n",
              "      filter: drop-shadow(0px 1px 2px rgba(0, 0, 0, 0.3));\n",
              "      fill: #FFFFFF;\n",
              "    }\n",
              "  </style>\n",
              "\n",
              "      <script>\n",
              "        const buttonEl =\n",
              "          document.querySelector('#df-6bae5b7e-7691-4344-a3f2-6774256fc815 button.colab-df-convert');\n",
              "        buttonEl.style.display =\n",
              "          google.colab.kernel.accessAllowed ? 'block' : 'none';\n",
              "\n",
              "        async function convertToInteractive(key) {\n",
              "          const element = document.querySelector('#df-6bae5b7e-7691-4344-a3f2-6774256fc815');\n",
              "          const dataTable =\n",
              "            await google.colab.kernel.invokeFunction('convertToInteractive',\n",
              "                                                     [key], {});\n",
              "          if (!dataTable) return;\n",
              "\n",
              "          const docLinkHtml = 'Like what you see? Visit the ' +\n",
              "            '<a target=\"_blank\" href=https://colab.research.google.com/notebooks/data_table.ipynb>data table notebook</a>'\n",
              "            + ' to learn more about interactive tables.';\n",
              "          element.innerHTML = '';\n",
              "          dataTable['output_type'] = 'display_data';\n",
              "          await google.colab.output.renderOutput(dataTable, element);\n",
              "          const docLink = document.createElement('div');\n",
              "          docLink.innerHTML = docLinkHtml;\n",
              "          element.appendChild(docLink);\n",
              "        }\n",
              "      </script>\n",
              "    </div>\n",
              "  </div>\n",
              "  "
            ]
          },
          "metadata": {},
          "execution_count": 198
        }
      ]
    },
    {
      "cell_type": "markdown",
      "source": [
        "Split your dataset into X_train,X_test, y_train, y_test."
      ],
      "metadata": {
        "id": "NGB-5Aoq7yto"
      }
    },
    {
      "cell_type": "code",
      "source": [
        "train, test = train_test_split(data, test_size=0.3)\n",
        "\n",
        "X_train = train.drop('charges', axis=1)\n",
        "Y_train = train.loc[:, 'charges']\n",
        "\n",
        "X_test = test.drop('charges', axis=1)\n",
        "Y_test = test.loc[:, 'charges']"
      ],
      "metadata": {
        "id": "6UfBs7yy7y8p"
      },
      "execution_count": 199,
      "outputs": []
    },
    {
      "cell_type": "markdown",
      "source": [
        "Scale the dataset by normalizing it(Min-Max Scaling or Standard Scaling)."
      ],
      "metadata": {
        "id": "fIXWiuCG7zHu"
      }
    },
    {
      "cell_type": "code",
      "source": [
        "min_max = MinMaxScaler()\n",
        "X_train = min_max.fit_transform(X_train)\n",
        "X_test = min_max.fit_transform(X_test)"
      ],
      "metadata": {
        "id": "rDTZjeTe7ze-"
      },
      "execution_count": 200,
      "outputs": []
    },
    {
      "cell_type": "markdown",
      "source": [
        "**Model Selection**\n",
        "\n",
        "Select several regression models and train them with the preprocessed data.\n",
        "\n",
        "Examine the performances of the selected models using cross validation.\n",
        "\n",
        "Choose the best performing model"
      ],
      "metadata": {
        "id": "NzJpspTm7zu7"
      }
    },
    {
      "cell_type": "code",
      "source": [
        "# LinearRegression\n",
        "linReg = LinearRegression()\n",
        "linReg.fit(X_train, Y_train)\n",
        "linear_predictions = linReg.predict(X_test)\n",
        "linear_mse = mean_squared_error(Y_test, linear_predictions)\n",
        "linear_mse"
      ],
      "metadata": {
        "id": "cn4cCmIV7z6R",
        "colab": {
          "base_uri": "https://localhost:8080/"
        },
        "outputId": "8598bb5d-25a8-4cf6-ffcc-344502849a5d"
      },
      "execution_count": 201,
      "outputs": [
        {
          "output_type": "execute_result",
          "data": {
            "text/plain": [
              "37696221.83705737"
            ]
          },
          "metadata": {},
          "execution_count": 201
        }
      ]
    },
    {
      "cell_type": "code",
      "source": [
        "# RidgeRegression\n",
        "ridgeReg = Ridge(alpha=0.05)\n",
        "ridgeReg.fit(X_train, Y_train)\n",
        "ridge_predictions = ridgeReg.predict(X_test)\n",
        "ridge_mse = mean_squared_error(Y_test, ridge_predictions)\n",
        "ridge_mse\n",
        "# Because the RidgeRegression has a lower MSE, the RidgeRegression will be used."
      ],
      "metadata": {
        "colab": {
          "base_uri": "https://localhost:8080/"
        },
        "id": "i6501vNvSzcS",
        "outputId": "3b389ecc-bd65-47b8-8e11-61d33697db59"
      },
      "execution_count": 202,
      "outputs": [
        {
          "output_type": "execute_result",
          "data": {
            "text/plain": [
              "37682924.2510238"
            ]
          },
          "metadata": {},
          "execution_count": 202
        }
      ]
    },
    {
      "cell_type": "markdown",
      "source": [
        "**Hyper-parameter Optimization**\n",
        "\n",
        "Optimize the hyper-parameters of the model selected in the previous step."
      ],
      "metadata": {
        "id": "VLCwoijz70D1"
      }
    },
    {
      "cell_type": "code",
      "source": [
        "# Remove the BMI outliers found\n",
        "optimized_data = data[data['bmi'] > bmi_threshold[0]]\n",
        "optimized_data = optimized_data[optimized_data['bmi'] < bmi_threshold[1]]\n",
        "print(data.shape)\n",
        "print(optimized_data.shape)"
      ],
      "metadata": {
        "id": "iP_q9ojk8dyn",
        "colab": {
          "base_uri": "https://localhost:8080/"
        },
        "outputId": "007879a6-0ad5-434b-8e80-acddde663ced"
      },
      "execution_count": 203,
      "outputs": [
        {
          "output_type": "stream",
          "name": "stdout",
          "text": [
            "(1338, 7)\n",
            "(1329, 7)\n"
          ]
        }
      ]
    },
    {
      "cell_type": "code",
      "source": [
        "# Recreate the train test split.\n",
        "optimized_train, optimized_test = train_test_split(optimized_data, test_size=0.3)\n",
        "\n",
        "optimized_X_train = optimized_train.drop('charges', axis=1)\n",
        "optimized_Y_train = optimized_train.loc[:, 'charges']\n",
        "\n",
        "optimized_X_test = optimized_test.drop('charges', axis=1)\n",
        "optimized_Y_test = optimized_test.loc[:, 'charges']"
      ],
      "metadata": {
        "id": "Wvq7SzIMhTDX"
      },
      "execution_count": 204,
      "outputs": []
    },
    {
      "cell_type": "code",
      "source": [
        "# Min-Max Scale the data again\n",
        "optimized_X_train = min_max.fit_transform(optimized_X_train)\n",
        "optimized_X_test = min_max.fit_transform(optimized_X_test)"
      ],
      "metadata": {
        "id": "e2k4pwWEh6Cb"
      },
      "execution_count": 205,
      "outputs": []
    },
    {
      "cell_type": "markdown",
      "source": [
        "Optimize parameters with Grid Search. (Grid Search or Randomized Search)"
      ],
      "metadata": {
        "id": "eYtrf6c3lXM5"
      }
    },
    {
      "cell_type": "code",
      "source": [
        "# Use GridSearch to find the best alpha value for our RidgeRegression Model\n",
        "# this took a long time to compile, so feel free to use the commented 'params' definition instead of the larger range that I used\n",
        "gridSearchRidgeReg = Ridge()\n",
        "params = [ { 'alpha': list(np.arange(0., 100.01, .01)) } ]\n",
        "# params = [ { 'alpha': list(np.arange(0., 10.01, .01)) } ]\n",
        "cv = RepeatedKFold(random_state=0)\n",
        "gridSearch = GridSearchCV(gridSearchRidgeReg, param_grid=params, scoring='neg_mean_squared_error', cv=cv, n_jobs=-1)\n",
        "gridSearch.fit(optimized_X_train, optimized_Y_train)\n",
        "best_alpha = gridSearch.best_params_['alpha']\n",
        "best_alpha"
      ],
      "metadata": {
        "id": "TUGddNB9lZpp",
        "colab": {
          "base_uri": "https://localhost:8080/"
        },
        "outputId": "8a28b7b7-aa43-4d26-e94c-bc2e9659bba3"
      },
      "execution_count": 206,
      "outputs": [
        {
          "output_type": "execute_result",
          "data": {
            "text/plain": [
              "0.28"
            ]
          },
          "metadata": {},
          "execution_count": 206
        }
      ]
    },
    {
      "cell_type": "markdown",
      "source": [
        "**Model Evaluation**\n",
        "\n",
        "Evaluate the optimized model using regression model evaluation metrics. (Ex. Mean\n",
        "Squared Error, Mean Absolute Error etc.)"
      ],
      "metadata": {
        "id": "IDj4-tfD8edK"
      }
    },
    {
      "cell_type": "code",
      "source": [
        "# Use the new alpha value with the RidgeRegression\n",
        "optimized_ridgeReg = Ridge(alpha=best_alpha)\n",
        "optimized_ridgeReg.fit(optimized_X_train, optimized_Y_train)\n",
        "optimized_ridge_predictions = optimized_ridgeReg.predict(optimized_X_test)\n",
        "optimized_ridge_mse = mean_squared_error(optimized_Y_test, optimized_ridge_predictions)\n",
        "print(optimized_ridge_mse)\n",
        "print(optimized_ridge_mse - ridge_mse)\n",
        "# The optimized model's MSE is much lower than our unoptimized model - GridSearch was a success"
      ],
      "metadata": {
        "colab": {
          "base_uri": "https://localhost:8080/"
        },
        "id": "-mf5W1poYboT",
        "outputId": "caa28e88-c26d-453a-8d6a-bb94576bcc79"
      },
      "execution_count": 212,
      "outputs": [
        {
          "output_type": "stream",
          "name": "stdout",
          "text": [
            "32918396.235419136\n",
            "-4764528.015604664\n"
          ]
        }
      ]
    }
  ]
}